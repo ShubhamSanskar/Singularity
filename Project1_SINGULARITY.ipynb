{
  "cells": [
    {
      "cell_type": "code",
      "source": [
        "from tabulate import tabulate\n",
        "\n",
        "# Data\n",
        "data = [\n",
        "    ['Star', 'Low', 'Low', 'Medium', 'Low'],\n",
        "    ['Black Hole', 'High', 'Low', 'High', 'High'],\n",
        "    ['Quasar', 'High', 'Medium', 'High', 'Medium'],\n",
        "    ['Galaxy', 'Medium', 'High', 'Medium', 'Low'],\n",
        "    ['Supernova', 'Low', 'Medium', 'Low', 'High']\n",
        "]\n",
        "\n",
        "# Column headers\n",
        "headers = ['Phenomenon', 'Kerr Metric', 'Friedmann Equation', 'Schwarzschild Metric', 'Gravitational Wave Equation']\n",
        "\n",
        "# Print the table in a clean tabular format\n",
        "print(tabulate(data, headers=headers, tablefmt=\"grid\"))"
      ],
      "metadata": {
        "colab": {
          "base_uri": "https://localhost:8080/"
        },
        "id": "e5m4nNIMuN5Y",
        "outputId": "1e0b5d57-8317-4fb9-ec10-05fce8897df9"
      },
      "execution_count": null,
      "outputs": [
        {
          "output_type": "stream",
          "name": "stdout",
          "text": [
            "+--------------+---------------+----------------------+------------------------+-------------------------------+\n",
            "| Phenomenon   | Kerr Metric   | Friedmann Equation   | Schwarzschild Metric   | Gravitational Wave Equation   |\n",
            "+==============+===============+======================+========================+===============================+\n",
            "| Star         | Low           | Low                  | Medium                 | Low                           |\n",
            "+--------------+---------------+----------------------+------------------------+-------------------------------+\n",
            "| Black Hole   | High          | Low                  | High                   | High                          |\n",
            "+--------------+---------------+----------------------+------------------------+-------------------------------+\n",
            "| Quasar       | High          | Medium               | High                   | Medium                        |\n",
            "+--------------+---------------+----------------------+------------------------+-------------------------------+\n",
            "| Galaxy       | Medium        | High                 | Medium                 | Low                           |\n",
            "+--------------+---------------+----------------------+------------------------+-------------------------------+\n",
            "| Supernova    | Low           | Medium               | Low                    | High                          |\n",
            "+--------------+---------------+----------------------+------------------------+-------------------------------+\n"
          ]
        }
      ]
    },
    {
      "cell_type": "markdown",
      "source": [
        "Kerr metric: Length (e.g., km, m).\n",
        "\n",
        "Friedmann equations: Density (\n",
        "kg/m\n",
        "3\n",
        "kg/m\n",
        "3\n",
        " ).\n",
        "\n",
        "Schwarzschild metric: Length (e.g., Schwarzschild radius in km).\n",
        "\n",
        "Gravitational waves: Dimensionless amplitude (\n",
        "ℎ *h), frequency (Hz).*"
      ],
      "metadata": {
        "id": "eDlbHe0QQbW8"
      }
    },
    {
      "cell_type": "markdown",
      "source": [
        "The dataset you provided contains several labels commonly used in astronomy, astrophysics, and cosmology, specifically related to the classification and measurement of celestial objects observed by surveys like the SDSS (Sloan Digital Sky Survey). Here’s an explanation of each label in the context of these fields:\n",
        "\n",
        "1. **objid**: The unique identifier for an astronomical object. This number is assigned by the survey and is used to track and reference the object.\n",
        "\n",
        "2. **specobjid**: A unique identifier for a spectrum of the object. If the object has been spectroscopically observed (i.e., its light has been split into a spectrum), this ID links to that specific spectrum.\n",
        "\n",
        "3. **ra (Right Ascension)**: The celestial coordinate equivalent of longitude in the sky. It measures an object's position in the sky along the celestial equator, typically expressed in hours, minutes, and seconds (0h to 24h).\n",
        "\n",
        "4. **dec (Declination)**: The celestial coordinate equivalent of latitude in the sky. It measures an object's position relative to the celestial equator, expressed in degrees (ranging from +90° to -90°).\n",
        "\n",
        "5. **u, g, r, i, z**: These represent magnitudes in different filters (photometric bands) of the electromagnetic spectrum:\n",
        "   - **u**: Ultra-violet filter.\n",
        "   - **g**: Green filter.\n",
        "   - **r**: Red filter.\n",
        "   - **i**: Infrared filter.\n",
        "   - **z**: Near-infrared filter.\n",
        "   These filters are used to measure the brightness of celestial objects at specific wavelengths.\n",
        "\n",
        "6. **run**: Identifies the specific observation run or survey session in which the data was collected.\n",
        "\n",
        "7. **rerun**: Identifies a specific data reduction process or re-processing that has been applied to the data.\n",
        "\n",
        "8. **camcol**: Camera column, specifying the column of the camera that was used to capture the image in the specific observation run.\n",
        "\n",
        "9. **field**: Specifies the field of view in the survey image, indicating the portion of the sky being observed.\n",
        "\n",
        "10. **plate**: The plate number used in the survey observation, which refers to a specific field or region of the sky on a particular night.\n",
        "\n",
        "11. **mjd (Modified Julian Date)**: The date and time when the observation was made, given as a continuous number of days since midnight on 17 November 1858.\n",
        "\n",
        "12. **fiberid**: The ID of the fiber used to collect light from the object in a spectroscopic observation, as part of multi-object spectrographs.\n",
        "\n",
        "13. **petroRad_u, petroRad_g, petroRad_i, petroRad_r, petroRad_z**: The Petrosian radius, which defines the size of an astronomical object (typically a galaxy) based on its surface brightness profile, measured in different bands (u, g, r, i, z).\n",
        "\n",
        "14. **petroFlux_u, petroFlux_g, petroFlux_i, petroFlux_r, petroFlux_z**: The Petrosian flux, which measures the total amount of light emitted by the object within the Petrosian radius for each filter (u, g, r, i, z).\n",
        "\n",
        "15. **petroR50_u, petroR50_g, petroR50_i, petroR50_r, petroR50_z**: The Petrosian radius containing 50% of the total flux of the object in each respective filter.\n",
        "\n",
        "16. **psfMag_u, psfMag_g, psfMag_r, psfMag_i, psfMag_z**: The point spread function (PSF) magnitude, which is a measure of the object's brightness considering the blurring effects of the instrument. The PSF measures the light distribution for an idealized point source, like a star.\n",
        "\n",
        "17. **expAB_u, expAB_g, expAB_r, expAB_i, expAB_z**: These are the magnitudes of the object in the AB magnitude system for each filter. The AB system is a standard way of expressing astronomical magnitudes, where the flux density is normalized to a reference frequency.\n",
        "\n",
        "18. **redshift**: The redshift (denoted by **z**) measures the shift in the wavelength of light from an astronomical object due to the expansion of the universe. A positive redshift means the object is moving away, and the light is stretched towards the red end of the spectrum.\n",
        "\n",
        "19. **class**: The classification of the object. In this case, the label \"GALAXY\" indicates that the object is classified as a galaxy. Other possible classifications might include \"STAR\" or \"QSO\" (quasi-stellar object or quasar).\n",
        "\n",
        "### Summary in Context of Astronomy, Astrophysics, and Cosmology:\n",
        "- **ra** and **dec** are key for locating objects in the sky (celestial coordinates).\n",
        "- **u, g, r, i, z** are filters used to observe the light emitted by astronomical objects across different parts of the electromagnetic spectrum, crucial for understanding their properties.\n",
        "- **Petrosian radius and flux** are used to characterize the size and brightness of galaxies, typically in imaging surveys.\n",
        "- **Redshift** is important in cosmology as it provides insight into the velocity and distance of objects, helping determine their place in the expanding universe.\n",
        "- **Class** provides the fundamental classification of celestial objects, such as distinguishing between galaxies, stars, and other objects like quasars."
      ],
      "metadata": {
        "id": "7u4iI4YWREvO"
      }
    },
    {
      "cell_type": "code",
      "execution_count": 1,
      "metadata": {
        "colab": {
          "base_uri": "https://localhost:8080/"
        },
        "collapsed": true,
        "id": "Ut9WX2c8o0OU",
        "outputId": "0e46c76b-d75c-435c-aa3b-5afdad9edfcf"
      },
      "outputs": [
        {
          "output_type": "stream",
          "name": "stdout",
          "text": [
            "Requirement already satisfied: flask in /usr/local/lib/python3.10/dist-packages (3.0.3)\n",
            "Requirement already satisfied: Werkzeug>=3.0.0 in /usr/local/lib/python3.10/dist-packages (from flask) (3.1.3)\n",
            "Requirement already satisfied: Jinja2>=3.1.2 in /usr/local/lib/python3.10/dist-packages (from flask) (3.1.4)\n",
            "Requirement already satisfied: itsdangerous>=2.1.2 in /usr/local/lib/python3.10/dist-packages (from flask) (2.2.0)\n",
            "Requirement already satisfied: click>=8.1.3 in /usr/local/lib/python3.10/dist-packages (from flask) (8.1.7)\n",
            "Requirement already satisfied: blinker>=1.6.2 in /usr/local/lib/python3.10/dist-packages (from flask) (1.9.0)\n",
            "Requirement already satisfied: MarkupSafe>=2.0 in /usr/local/lib/python3.10/dist-packages (from Jinja2>=3.1.2->flask) (3.0.2)\n"
          ]
        }
      ],
      "source": [
        "!pip install  flask"
      ]
    },
    {
      "cell_type": "code",
      "execution_count": 2,
      "metadata": {
        "colab": {
          "base_uri": "https://localhost:8080/"
        },
        "collapsed": true,
        "id": "19Bc_hAgkuHe",
        "outputId": "9ae8a4b8-038b-4d8a-a522-c82b93d0932a"
      },
      "outputs": [
        {
          "output_type": "stream",
          "name": "stdout",
          "text": [
            "Requirement already satisfied: xgboost in /usr/local/lib/python3.10/dist-packages (2.1.3)\n",
            "Requirement already satisfied: numpy in /usr/local/lib/python3.10/dist-packages (from xgboost) (1.26.4)\n",
            "Requirement already satisfied: nvidia-nccl-cu12 in /usr/local/lib/python3.10/dist-packages (from xgboost) (2.23.4)\n",
            "Requirement already satisfied: scipy in /usr/local/lib/python3.10/dist-packages (from xgboost) (1.13.1)\n"
          ]
        }
      ],
      "source": [
        "!pip install xgboost"
      ]
    },
    {
      "cell_type": "code",
      "execution_count": 3,
      "metadata": {
        "colab": {
          "base_uri": "https://localhost:8080/"
        },
        "collapsed": true,
        "id": "BHmRfjz_nigJ",
        "outputId": "f97d10d2-fa31-4c51-d6bd-2a7c0117377b"
      },
      "outputs": [
        {
          "output_type": "stream",
          "name": "stdout",
          "text": [
            "Collecting pyngrok\n",
            "  Downloading pyngrok-7.2.1-py3-none-any.whl.metadata (8.3 kB)\n",
            "Requirement already satisfied: PyYAML>=5.1 in /usr/local/lib/python3.10/dist-packages (from pyngrok) (6.0.2)\n",
            "Downloading pyngrok-7.2.1-py3-none-any.whl (22 kB)\n",
            "Installing collected packages: pyngrok\n",
            "Successfully installed pyngrok-7.2.1\n"
          ]
        }
      ],
      "source": [
        "!pip install pyngrok"
      ]
    },
    {
      "cell_type": "code",
      "source": [
        "!pip install gradio"
      ],
      "metadata": {
        "id": "mE0L0PDfmLpV",
        "colab": {
          "base_uri": "https://localhost:8080/"
        },
        "collapsed": true,
        "outputId": "686e5e86-f64b-4326-9f62-99ed15c5532a"
      },
      "execution_count": 4,
      "outputs": [
        {
          "output_type": "stream",
          "name": "stdout",
          "text": [
            "Collecting gradio\n",
            "  Downloading gradio-5.8.0-py3-none-any.whl.metadata (16 kB)\n",
            "Collecting aiofiles<24.0,>=22.0 (from gradio)\n",
            "  Downloading aiofiles-23.2.1-py3-none-any.whl.metadata (9.7 kB)\n",
            "Requirement already satisfied: anyio<5.0,>=3.0 in /usr/local/lib/python3.10/dist-packages (from gradio) (3.7.1)\n",
            "Collecting fastapi<1.0,>=0.115.2 (from gradio)\n",
            "  Downloading fastapi-0.115.6-py3-none-any.whl.metadata (27 kB)\n",
            "Collecting ffmpy (from gradio)\n",
            "  Downloading ffmpy-0.4.0-py3-none-any.whl.metadata (2.9 kB)\n",
            "Collecting gradio-client==1.5.1 (from gradio)\n",
            "  Downloading gradio_client-1.5.1-py3-none-any.whl.metadata (7.1 kB)\n",
            "Requirement already satisfied: httpx>=0.24.1 in /usr/local/lib/python3.10/dist-packages (from gradio) (0.28.0)\n",
            "Requirement already satisfied: huggingface-hub>=0.25.1 in /usr/local/lib/python3.10/dist-packages (from gradio) (0.26.3)\n",
            "Requirement already satisfied: jinja2<4.0 in /usr/local/lib/python3.10/dist-packages (from gradio) (3.1.4)\n",
            "Collecting markupsafe~=2.0 (from gradio)\n",
            "  Downloading MarkupSafe-2.1.5-cp310-cp310-manylinux_2_17_x86_64.manylinux2014_x86_64.whl.metadata (3.0 kB)\n",
            "Requirement already satisfied: numpy<3.0,>=1.0 in /usr/local/lib/python3.10/dist-packages (from gradio) (1.26.4)\n",
            "Requirement already satisfied: orjson~=3.0 in /usr/local/lib/python3.10/dist-packages (from gradio) (3.10.12)\n",
            "Requirement already satisfied: packaging in /usr/local/lib/python3.10/dist-packages (from gradio) (24.2)\n",
            "Requirement already satisfied: pandas<3.0,>=1.0 in /usr/local/lib/python3.10/dist-packages (from gradio) (2.2.2)\n",
            "Requirement already satisfied: pillow<12.0,>=8.0 in /usr/local/lib/python3.10/dist-packages (from gradio) (11.0.0)\n",
            "Requirement already satisfied: pydantic>=2.0 in /usr/local/lib/python3.10/dist-packages (from gradio) (2.10.3)\n",
            "Collecting pydub (from gradio)\n",
            "  Downloading pydub-0.25.1-py2.py3-none-any.whl.metadata (1.4 kB)\n",
            "Collecting python-multipart>=0.0.18 (from gradio)\n",
            "  Downloading python_multipart-0.0.19-py3-none-any.whl.metadata (1.8 kB)\n",
            "Requirement already satisfied: pyyaml<7.0,>=5.0 in /usr/local/lib/python3.10/dist-packages (from gradio) (6.0.2)\n",
            "Collecting ruff>=0.2.2 (from gradio)\n",
            "  Downloading ruff-0.8.2-py3-none-manylinux_2_17_x86_64.manylinux2014_x86_64.whl.metadata (25 kB)\n",
            "Collecting safehttpx<0.2.0,>=0.1.6 (from gradio)\n",
            "  Downloading safehttpx-0.1.6-py3-none-any.whl.metadata (4.2 kB)\n",
            "Collecting semantic-version~=2.0 (from gradio)\n",
            "  Downloading semantic_version-2.10.0-py2.py3-none-any.whl.metadata (9.7 kB)\n",
            "Collecting starlette<1.0,>=0.40.0 (from gradio)\n",
            "  Downloading starlette-0.41.3-py3-none-any.whl.metadata (6.0 kB)\n",
            "Collecting tomlkit<0.14.0,>=0.12.0 (from gradio)\n",
            "  Downloading tomlkit-0.13.2-py3-none-any.whl.metadata (2.7 kB)\n",
            "Requirement already satisfied: typer<1.0,>=0.12 in /usr/local/lib/python3.10/dist-packages (from gradio) (0.15.0)\n",
            "Requirement already satisfied: typing-extensions~=4.0 in /usr/local/lib/python3.10/dist-packages (from gradio) (4.12.2)\n",
            "Collecting uvicorn>=0.14.0 (from gradio)\n",
            "  Downloading uvicorn-0.32.1-py3-none-any.whl.metadata (6.6 kB)\n",
            "Requirement already satisfied: fsspec in /usr/local/lib/python3.10/dist-packages (from gradio-client==1.5.1->gradio) (2024.10.0)\n",
            "Collecting websockets<15.0,>=10.0 (from gradio-client==1.5.1->gradio)\n",
            "  Downloading websockets-14.1-cp310-cp310-manylinux_2_5_x86_64.manylinux1_x86_64.manylinux_2_17_x86_64.manylinux2014_x86_64.whl.metadata (6.7 kB)\n",
            "Requirement already satisfied: idna>=2.8 in /usr/local/lib/python3.10/dist-packages (from anyio<5.0,>=3.0->gradio) (3.10)\n",
            "Requirement already satisfied: sniffio>=1.1 in /usr/local/lib/python3.10/dist-packages (from anyio<5.0,>=3.0->gradio) (1.3.1)\n",
            "Requirement already satisfied: exceptiongroup in /usr/local/lib/python3.10/dist-packages (from anyio<5.0,>=3.0->gradio) (1.2.2)\n",
            "Requirement already satisfied: certifi in /usr/local/lib/python3.10/dist-packages (from httpx>=0.24.1->gradio) (2024.8.30)\n",
            "Requirement already satisfied: httpcore==1.* in /usr/local/lib/python3.10/dist-packages (from httpx>=0.24.1->gradio) (1.0.7)\n",
            "Requirement already satisfied: h11<0.15,>=0.13 in /usr/local/lib/python3.10/dist-packages (from httpcore==1.*->httpx>=0.24.1->gradio) (0.14.0)\n",
            "Requirement already satisfied: filelock in /usr/local/lib/python3.10/dist-packages (from huggingface-hub>=0.25.1->gradio) (3.16.1)\n",
            "Requirement already satisfied: requests in /usr/local/lib/python3.10/dist-packages (from huggingface-hub>=0.25.1->gradio) (2.32.3)\n",
            "Requirement already satisfied: tqdm>=4.42.1 in /usr/local/lib/python3.10/dist-packages (from huggingface-hub>=0.25.1->gradio) (4.66.6)\n",
            "Requirement already satisfied: python-dateutil>=2.8.2 in /usr/local/lib/python3.10/dist-packages (from pandas<3.0,>=1.0->gradio) (2.8.2)\n",
            "Requirement already satisfied: pytz>=2020.1 in /usr/local/lib/python3.10/dist-packages (from pandas<3.0,>=1.0->gradio) (2024.2)\n",
            "Requirement already satisfied: tzdata>=2022.7 in /usr/local/lib/python3.10/dist-packages (from pandas<3.0,>=1.0->gradio) (2024.2)\n",
            "Requirement already satisfied: annotated-types>=0.6.0 in /usr/local/lib/python3.10/dist-packages (from pydantic>=2.0->gradio) (0.7.0)\n",
            "Requirement already satisfied: pydantic-core==2.27.1 in /usr/local/lib/python3.10/dist-packages (from pydantic>=2.0->gradio) (2.27.1)\n",
            "Requirement already satisfied: click>=8.0.0 in /usr/local/lib/python3.10/dist-packages (from typer<1.0,>=0.12->gradio) (8.1.7)\n",
            "Requirement already satisfied: shellingham>=1.3.0 in /usr/local/lib/python3.10/dist-packages (from typer<1.0,>=0.12->gradio) (1.5.4)\n",
            "Requirement already satisfied: rich>=10.11.0 in /usr/local/lib/python3.10/dist-packages (from typer<1.0,>=0.12->gradio) (13.9.4)\n",
            "Requirement already satisfied: six>=1.5 in /usr/local/lib/python3.10/dist-packages (from python-dateutil>=2.8.2->pandas<3.0,>=1.0->gradio) (1.16.0)\n",
            "Requirement already satisfied: markdown-it-py>=2.2.0 in /usr/local/lib/python3.10/dist-packages (from rich>=10.11.0->typer<1.0,>=0.12->gradio) (3.0.0)\n",
            "Requirement already satisfied: pygments<3.0.0,>=2.13.0 in /usr/local/lib/python3.10/dist-packages (from rich>=10.11.0->typer<1.0,>=0.12->gradio) (2.18.0)\n",
            "Requirement already satisfied: charset-normalizer<4,>=2 in /usr/local/lib/python3.10/dist-packages (from requests->huggingface-hub>=0.25.1->gradio) (3.4.0)\n",
            "Requirement already satisfied: urllib3<3,>=1.21.1 in /usr/local/lib/python3.10/dist-packages (from requests->huggingface-hub>=0.25.1->gradio) (2.2.3)\n",
            "Requirement already satisfied: mdurl~=0.1 in /usr/local/lib/python3.10/dist-packages (from markdown-it-py>=2.2.0->rich>=10.11.0->typer<1.0,>=0.12->gradio) (0.1.2)\n",
            "Downloading gradio-5.8.0-py3-none-any.whl (57.2 MB)\n",
            "\u001b[2K   \u001b[90m━━━━━━━━━━━━━━━━━━━━━━━━━━━━━━━━━━━━━━━━\u001b[0m \u001b[32m57.2/57.2 MB\u001b[0m \u001b[31m8.6 MB/s\u001b[0m eta \u001b[36m0:00:00\u001b[0m\n",
            "\u001b[?25hDownloading gradio_client-1.5.1-py3-none-any.whl (320 kB)\n",
            "\u001b[2K   \u001b[90m━━━━━━━━━━━━━━━━━━━━━━━━━━━━━━━━━━━━━━━━\u001b[0m \u001b[32m320.2/320.2 kB\u001b[0m \u001b[31m17.0 MB/s\u001b[0m eta \u001b[36m0:00:00\u001b[0m\n",
            "\u001b[?25hDownloading aiofiles-23.2.1-py3-none-any.whl (15 kB)\n",
            "Downloading fastapi-0.115.6-py3-none-any.whl (94 kB)\n",
            "\u001b[2K   \u001b[90m━━━━━━━━━━━━━━━━━━━━━━━━━━━━━━━━━━━━━━━━\u001b[0m \u001b[32m94.8/94.8 kB\u001b[0m \u001b[31m6.0 MB/s\u001b[0m eta \u001b[36m0:00:00\u001b[0m\n",
            "\u001b[?25hDownloading MarkupSafe-2.1.5-cp310-cp310-manylinux_2_17_x86_64.manylinux2014_x86_64.whl (25 kB)\n",
            "Downloading python_multipart-0.0.19-py3-none-any.whl (24 kB)\n",
            "Downloading ruff-0.8.2-py3-none-manylinux_2_17_x86_64.manylinux2014_x86_64.whl (11.2 MB)\n",
            "\u001b[2K   \u001b[90m━━━━━━━━━━━━━━━━━━━━━━━━━━━━━━━━━━━━━━━━\u001b[0m \u001b[32m11.2/11.2 MB\u001b[0m \u001b[31m57.2 MB/s\u001b[0m eta \u001b[36m0:00:00\u001b[0m\n",
            "\u001b[?25hDownloading safehttpx-0.1.6-py3-none-any.whl (8.7 kB)\n",
            "Downloading semantic_version-2.10.0-py2.py3-none-any.whl (15 kB)\n",
            "Downloading starlette-0.41.3-py3-none-any.whl (73 kB)\n",
            "\u001b[2K   \u001b[90m━━━━━━━━━━━━━━━━━━━━━━━━━━━━━━━━━━━━━━━━\u001b[0m \u001b[32m73.2/73.2 kB\u001b[0m \u001b[31m4.6 MB/s\u001b[0m eta \u001b[36m0:00:00\u001b[0m\n",
            "\u001b[?25hDownloading tomlkit-0.13.2-py3-none-any.whl (37 kB)\n",
            "Downloading uvicorn-0.32.1-py3-none-any.whl (63 kB)\n",
            "\u001b[2K   \u001b[90m━━━━━━━━━━━━━━━━━━━━━━━━━━━━━━━━━━━━━━━━\u001b[0m \u001b[32m63.8/63.8 kB\u001b[0m \u001b[31m3.7 MB/s\u001b[0m eta \u001b[36m0:00:00\u001b[0m\n",
            "\u001b[?25hDownloading ffmpy-0.4.0-py3-none-any.whl (5.8 kB)\n",
            "Downloading pydub-0.25.1-py2.py3-none-any.whl (32 kB)\n",
            "Downloading websockets-14.1-cp310-cp310-manylinux_2_5_x86_64.manylinux1_x86_64.manylinux_2_17_x86_64.manylinux2014_x86_64.whl (168 kB)\n",
            "\u001b[2K   \u001b[90m━━━━━━━━━━━━━━━━━━━━━━━━━━━━━━━━━━━━━━━━\u001b[0m \u001b[32m168.2/168.2 kB\u001b[0m \u001b[31m9.5 MB/s\u001b[0m eta \u001b[36m0:00:00\u001b[0m\n",
            "\u001b[?25hInstalling collected packages: pydub, websockets, uvicorn, tomlkit, semantic-version, ruff, python-multipart, markupsafe, ffmpy, aiofiles, starlette, safehttpx, gradio-client, fastapi, gradio\n",
            "  Attempting uninstall: markupsafe\n",
            "    Found existing installation: MarkupSafe 3.0.2\n",
            "    Uninstalling MarkupSafe-3.0.2:\n",
            "      Successfully uninstalled MarkupSafe-3.0.2\n",
            "Successfully installed aiofiles-23.2.1 fastapi-0.115.6 ffmpy-0.4.0 gradio-5.8.0 gradio-client-1.5.1 markupsafe-2.1.5 pydub-0.25.1 python-multipart-0.0.19 ruff-0.8.2 safehttpx-0.1.6 semantic-version-2.10.0 starlette-0.41.3 tomlkit-0.13.2 uvicorn-0.32.1 websockets-14.1\n"
          ]
        }
      ]
    },
    {
      "cell_type": "markdown",
      "metadata": {
        "id": "8LDMOnGXAjc3"
      },
      "source": [
        "Experiment for 100%"
      ]
    },
    {
      "cell_type": "code",
      "execution_count": 5,
      "metadata": {
        "colab": {
          "base_uri": "https://localhost:8080/"
        },
        "id": "GnKYtF_DG7Q9",
        "outputId": "3fbb328b-db0f-47ec-bb47-38f5f3026999",
        "collapsed": true
      },
      "outputs": [
        {
          "output_type": "stream",
          "name": "stdout",
          "text": [
            "Authtoken saved to configuration file: /root/.config/ngrok/ngrok.yml\n"
          ]
        }
      ],
      "source": [
        "!ngrok authtoken 2oIQruOwN3vnkoCZ1pkOUAVQIwj_48haVFHXJS2cUTTxgUDMG"
      ]
    },
    {
      "cell_type": "markdown",
      "metadata": {
        "id": "13MBpn-c_lcA"
      },
      "source": [
        "1: Import Libraries"
      ]
    },
    {
      "cell_type": "code",
      "execution_count": 6,
      "metadata": {
        "id": "pIiNtJsD_b7c"
      },
      "outputs": [],
      "source": [
        "# Import libraries\n",
        "import pandas as pd\n",
        "import numpy as np\n",
        "from sklearn.model_selection import train_test_split\n",
        "from sklearn.preprocessing import LabelEncoder, StandardScaler\n",
        "from sklearn.decomposition import PCA\n",
        "from sklearn.ensemble import StackingClassifier, RandomForestClassifier\n",
        "from sklearn.linear_model import LogisticRegression\n",
        "from xgboost import XGBClassifier\n",
        "import matplotlib.pyplot as plt\n",
        "import seaborn as sns\n",
        "from sklearn.metrics import confusion_matrix, classification_report, accuracy_score\n",
        "from sklearn.neighbors import KNeighborsRegressor\n",
        "from math import radians, cos, sin"
      ]
    },
    {
      "cell_type": "code",
      "execution_count": 7,
      "metadata": {
        "id": "0F5cZwev_pi-"
      },
      "outputs": [],
      "source": [
        "# Load dataset\n",
        "data = pd.read_csv('SDSS_DR18.csv')\n",
        "\n",
        "# Handle missing data\n",
        "numeric_cols = data.select_dtypes(include=[np.number]).columns\n",
        "categorical_cols = data.select_dtypes(include=[object]).columns\n",
        "data[numeric_cols] = data[numeric_cols].fillna(data[numeric_cols].median())\n",
        "for col in categorical_cols:\n",
        "    data[col] = data[col].fillna(data[col].mode()[0])"
      ]
    },
    {
      "cell_type": "code",
      "execution_count": 8,
      "metadata": {
        "id": "1dk8Ee4n_spR"
      },
      "outputs": [],
      "source": [
        "# Encode target labels (celestial object classification)\n",
        "label_encoder = LabelEncoder()\n",
        "data['class'] = label_encoder.fit_transform(data['class'])\n"
      ]
    },
    {
      "cell_type": "code",
      "execution_count": 9,
      "metadata": {
        "id": "_OOmqG2S1aXZ"
      },
      "outputs": [],
      "source": [
        "# Feature Engineering Functions\n",
        "def kerr_metric(a, r, theta): return (r**2 + a**2) * np.sin(theta)**2\n",
        "def friedmann_equation(H0, rho, k, Lambda, r): return H0**2 * (rho + k / r**2 - Lambda)\n",
        "def schwarzschild_metric(r, M): return 1 - (2 * M) / r\n",
        "def gravitational_wave_eqn(h_plus, h_cross, distance): return (h_plus**2 + h_cross**2)**0.5 / distance\n",
        "\n",
        "# Add features using these equations\n",
        "data['kerr_feature'] = kerr_metric(a=0.5, r=data['ra'], theta=np.radians(data['dec']))\n",
        "data['friedmann_feature'] = friedmann_equation(H0=70, rho=0.3, k=0, Lambda=0.7, r=data['ra'])\n",
        "data['schwarzschild_feature'] = schwarzschild_metric(r=data['ra'], M=10**6)\n",
        "data['gravitational_wave_feature'] = gravitational_wave_eqn(h_plus=1e-21, h_cross=1e-21, distance=data['ra'])"
      ]
    },
    {
      "cell_type": "code",
      "execution_count": 10,
      "metadata": {
        "id": "VogfN6uL_4SV"
      },
      "outputs": [],
      "source": [
        "# Predict celestial object coordinates relative to the Sun\n",
        "def predict_relative_coordinates(ra, dec, distance):\n",
        "    x = distance * cos(radians(ra)) * cos(radians(dec))\n",
        "    y = distance * sin(radians(ra)) * cos(radians(dec))\n",
        "    z = distance * sin(radians(dec))\n",
        "    return x, y, z\n",
        "\n",
        "# Add coordinate features\n",
        "data['x'], data['y'], data['z'] = zip(*data.apply(lambda row: predict_relative_coordinates(row['ra'], row['dec'], row['ra']), axis=1))"
      ]
    },
    {
      "cell_type": "code",
      "execution_count": 11,
      "metadata": {
        "id": "tpkSnrQq_8Fl"
      },
      "outputs": [],
      "source": [
        "# Define feature matrix and target\n",
        "X_full = data.drop(columns=['class'])  # Retain all features except the target\n",
        "y = data['class']  # Target"
      ]
    },
    {
      "cell_type": "code",
      "execution_count": 12,
      "metadata": {
        "id": "GPb6ezj5_99W"
      },
      "outputs": [],
      "source": [
        "# Normalize features\n",
        "scaler = StandardScaler()\n",
        "X_scaled = scaler.fit_transform(X_full)\n",
        "\n",
        "# Split dataset\n",
        "X_train, X_test, y_train, y_test = train_test_split(X_scaled, y, test_size=0.2, random_state=42)"
      ]
    },
    {
      "cell_type": "code",
      "execution_count": 13,
      "metadata": {
        "id": "UQtui-IZ__7t"
      },
      "outputs": [],
      "source": [
        "# Dimensionality reduction for main model\n",
        "pca = PCA(n_components=5)\n",
        "X_train_pca = pca.fit_transform(X_train)\n",
        "X_test_pca = pca.transform(X_test)"
      ]
    },
    {
      "cell_type": "code",
      "execution_count": null,
      "metadata": {
        "id": "pnLrzE41AB7-"
      },
      "outputs": [],
      "source": [
        "# Define stacking model\n",
        "stacking_model = StackingClassifier(\n",
        "    estimators=[\n",
        "        ('log_reg', LogisticRegression(max_iter=1000)),\n",
        "        ('rf', RandomForestClassifier(n_estimators=300, max_depth=30)),\n",
        "        ('xgb', XGBClassifier(eval_metric='mlogloss'))\n",
        "    ],\n",
        "    final_estimator=LogisticRegression(max_iter=1000)\n",
        ")\n",
        "\n",
        "# Train the model\n",
        "stacking_model.fit(X_train_pca, y_train)"
      ]
    },
    {
      "cell_type": "code",
      "execution_count": null,
      "metadata": {
        "id": "TTurV42YADqP"
      },
      "outputs": [],
      "source": [
        "# Model evaluation\n",
        "from sklearn.metrics import mean_squared_error\n",
        "y_pred = stacking_model.predict(X_test_pca)\n",
        "accuracy = accuracy_score(y_test, y_pred)\n",
        "print(f\"Model Accuracy: {accuracy * 100:.2f}%\")\n",
        "\n",
        "# Mean Squared Error (MSE)\n",
        "mse = mean_squared_error(y_test, y_pred)\n",
        "\n",
        "# Root Mean Squared Error (RMSE)\n",
        "rmse = np.sqrt(mse)\n",
        "\n",
        "# Print the results\n",
        "print(f\"Mean Squared Error (MSE): {mse}\")\n",
        "print(f\"Root Mean Squared Error (RMSE): {rmse}\")\n"
      ]
    },
    {
      "cell_type": "code",
      "execution_count": null,
      "metadata": {
        "id": "GDBUmwX0AKjN"
      },
      "outputs": [],
      "source": [
        "# Train KNeighborsRegressor for trajectory prediction using coordinate features\n",
        "X_coord = data[['x', 'y', 'z']]\n",
        "X_train_coord, X_test_coord, y_train_coord, y_test_coord = train_test_split(X_coord, y, test_size=0.2, random_state=42)\n",
        "trajectory_model = KNeighborsRegressor(n_neighbors=5)\n",
        "trajectory_model.fit(X_train_coord, y_train_coord)"
      ]
    },
    {
      "cell_type": "code",
      "execution_count": null,
      "metadata": {
        "id": "vqcOBkzqAMaO"
      },
      "outputs": [],
      "source": [
        "# Visualize Confusion Matrix and Classification Report\n",
        "def visualize_metrics(y_test, y_pred):\n",
        "    cm = confusion_matrix(y_test, y_pred)\n",
        "    sns.heatmap(cm, annot=True, fmt='d', cmap='Blues', xticklabels=label_encoder.classes_, yticklabels=label_encoder.classes_)\n",
        "    plt.ylabel('Actual')\n",
        "    plt.xlabel('Predicted')\n",
        "    plt.title('Confusion Matrix')\n",
        "    plt.show()\n",
        "    print(\"Classification Report:\")\n",
        "    print(classification_report(y_test, y_pred, target_names=label_encoder.classes_))\n",
        "\n",
        "visualize_metrics(y_test, y_pred)"
      ]
    },
    {
      "cell_type": "code",
      "source": [
        "from flask import Flask, render_template_string, request, jsonify\n",
        "from pyngrok import ngrok\n",
        "import random\n",
        "import numpy as np\n",
        "import matplotlib.pyplot as plt\n",
        "from mpl_toolkits.mplot3d import Axes3D\n",
        "from io import BytesIO\n",
        "import base64\n",
        "\n",
        "# Authenticate ngrok (replace with your actual token if necessary)\n",
        "ngrok.set_auth_token(\"2oIQruOwN3vnkoCZ1pkOUAVQIwj_48haVFHXJS2cUTTxgUDMG\")\n",
        "\n",
        "# Initialize Flask app\n",
        "app = Flask(__name__)\n",
        "\n",
        "# Sample machine learning model function to simulate celestial classification\n",
        "def celestial_classification_model(phenomenon, mass, distance):\n",
        "    accuracy = random.uniform(0.8, 1.0)  # Simulating accuracy between 0.8 and 1.0\n",
        "\n",
        "    # Simulate coordinates based on distance, with Sun's coordinates as reference\n",
        "    sun_coordinates = (0, 0, 0)  # Sun's position at the origin\n",
        "    x = random.uniform(-1, 1) * distance\n",
        "    y = random.uniform(-1, 1) * distance\n",
        "    z = random.uniform(-1, 1) * distance\n",
        "\n",
        "    # Simulate values for the Kerr Metric, Friedmann Equation, Schwarzschild Metric, and Gravitational Wave Equation\n",
        "    kerr_metric = random.uniform(1, 10) * mass  # Simulating a value for spacetime distortion\n",
        "    friedmann_equation = random.uniform(0.1, 2.0) * distance  # Simulating universe expansion factor\n",
        "    schwarzschild_metric = random.uniform(0.5, 3.0) * mass  # Simulating non-rotating mass metric\n",
        "    gravitational_wave_eqn = random.uniform(0, 5) * distance  # Simulating gravitational wave effect\n",
        "\n",
        "    response = {\n",
        "        \"object_type\": phenomenon,\n",
        "        \"mass\": mass,\n",
        "        \"distance\": distance,\n",
        "        \"classification_score\": round(accuracy, 2),\n",
        "        \"coordinates\": {\"x\": round(x, 2), \"y\": round(y, 2), \"z\": round(z, 2)},\n",
        "        \"kerr_metric\": round(kerr_metric, 2),\n",
        "        \"friedmann_equation\": round(friedmann_equation, 2),\n",
        "        \"schwarzschild_metric\": round(schwarzschild_metric, 2),\n",
        "        \"gravitational_wave_eqn\": round(gravitational_wave_eqn, 2)\n",
        "    }\n",
        "    return response\n",
        "\n",
        "# Function to create a 3D scatter plot with trajectory\n",
        "def create_3d_plot(coordinates):\n",
        "    fig = plt.figure()\n",
        "    ax = fig.add_subplot(111, projection='3d')\n",
        "\n",
        "    # Plotting the Sun's coordinates\n",
        "    ax.scatter(0, 0, 0, c='yellow', s=100, label='Sun (0, 0, 0)', marker='o')  # Sun marker\n",
        "\n",
        "    # Plotting celestial objects with respect to the Sun's coordinates\n",
        "    x, y, z = coordinates['x'], coordinates['y'], coordinates['z']\n",
        "    ax.scatter(x, y, z, c='r', marker='o', label='Celestial Object')\n",
        "\n",
        "    # Adding trajectory (for demonstration, we create a simple line)\n",
        "    ax.plot([0, x], [0, y], [0, z], color='blue', linestyle='--', linewidth=2, label='Trajectory')\n",
        "\n",
        "    ax.set_xlabel('X Coordinate (Light Years)')\n",
        "    ax.set_ylabel('Y Coordinate (Light Years)')\n",
        "    ax.set_zlabel('Z Coordinate (Light Years)')\n",
        "    ax.set_title('3D Scatter Plot of Celestial Phenomena (Relative to the Sun)')\n",
        "    ax.legend()\n",
        "\n",
        "    # Save plot to a BytesIO object and encode it as base64 for embedding\n",
        "    buf = BytesIO()\n",
        "    plt.savefig(buf, format='png')\n",
        "    plt.close(fig)\n",
        "    buf.seek(0)\n",
        "    return base64.b64encode(buf.read()).decode('utf-8')\n",
        "\n",
        "# Function to create a heatmap based on various astronomical features\n",
        "def create_heatmap(data):\n",
        "    fig, ax = plt.subplots()\n",
        "\n",
        "    # Extracting example features for heatmap (replace with actual data in practice)\n",
        "    ra = np.random.uniform(0, 360, size=100)\n",
        "    dec = np.random.uniform(-90, 90, size=100)\n",
        "\n",
        "    # Create a 2D histogram as a heatmap\n",
        "    heatmap, xedges, yedges = np.histogram2d(ra, dec, bins=20)\n",
        "    im = ax.imshow(heatmap.T, origin='lower', cmap='hot', interpolation='nearest')\n",
        "\n",
        "    ax.set_xlabel('Right Ascension (Degrees)')\n",
        "    ax.set_ylabel('Declination (Degrees)')\n",
        "    ax.set_title('Heatmap of Celestial Phenomena')\n",
        "    plt.colorbar(im, ax=ax)\n",
        "\n",
        "    # Save heatmap to a BytesIO object and encode it as base64 for embedding\n",
        "    buf = BytesIO()\n",
        "    plt.savefig(buf, format='png')\n",
        "    plt.close(fig)\n",
        "    buf.seek(0)\n",
        "    return base64.b64encode(buf.read()).decode('utf-8')\n",
        "\n",
        "# Define the HTML content with form, 3D rendering space, and simulation\n",
        "@app.route('/')\n",
        "def celestial_classification():\n",
        "    return '''\n",
        "    <!DOCTYPE html>\n",
        "    <html>\n",
        "    <head>\n",
        "        <title>SINGULARITY</title>\n",
        "        <style>\n",
        "            body {\n",
        "                font-family: Arial, sans-serif;\n",
        "                background-color: #f0f8ff;\n",
        "                margin: 0;\n",
        "                padding: 20px;\n",
        "                animation: fadeIn 1s;\n",
        "            }\n",
        "            @keyframes fadeIn {\n",
        "                from { opacity: 0; }\n",
        "                to { opacity: 1; }\n",
        "            }\n",
        "            h2 {\n",
        "                text-align: center;\n",
        "                color: #333;\n",
        "                text-shadow: 2px 2px 4px #aaa;\n",
        "            }\n",
        "            #classificationForm {\n",
        "                max-width: 500px;\n",
        "                margin: 0 auto;\n",
        "                padding: 20px;\n",
        "                background: #fff;\n",
        "                border-radius: 8px;\n",
        "                box-shadow: 0 0 10px rgba(0, 0, 0, 0.1);\n",
        "                transition: transform 0.3s;\n",
        "            }\n",
        "            #classificationForm:hover {\n",
        "                transform: scale(1.02);\n",
        "            }\n",
        "            label {\n",
        "                display: block;\n",
        "                margin-bottom: 8px;\n",
        "                font-weight: bold;\n",
        "                color: #555;\n",
        "            }\n",
        "            input[type=\"number\"], select {\n",
        "                width: 100%;\n",
        "                padding: 10px;\n",
        "                margin-bottom: 20px;\n",
        "                border-radius: 4px;\n",
        "                border: 1px solid #ccc;\n",
        "                box-sizing: border-box;\n",
        "            }\n",
        "            input[type=\"button\"] {\n",
        "                width: 100%;\n",
        "                padding: 10px;\n",
        "                background-color: #28a745;\n",
        "                border: none;\n",
        "                border-radius: 4px;\n",
        "                color: white;\n",
        "                font-weight: bold;\n",
        "                cursor: pointer;\n",
        "            }\n",
        "            input[type=\"button\"]:hover {\n",
        "                background-color: #218838;\n",
        "            }\n",
        "            #result {\n",
        "                text-align: center;\n",
        "                margin-top: 20px;\n",
        "                font-size: 18px;\n",
        "                color: #333;\n",
        "            }\n",
        "            #plot, #heatmap {\n",
        "                text-align: center;\n",
        "                margin-top: 20px;\n",
        "            }\n",
        "        </style>\n",
        "    </head>\n",
        "    <body>\n",
        "        <h2>SINGULARITY</h2>\n",
        "        <form id=\"classificationForm\">\n",
        "            <label for=\"phenomenon\">Celestial Phenomenon:</label>\n",
        "            <select id=\"phenomenon\" name=\"phenomenon\">\n",
        "                <option value=\"Black Hole\">Black Hole</option>\n",
        "                <option value=\"Galaxy\">Galaxy</option>\n",
        "                <option value=\"Star\">Star</option>\n",
        "                <option value=\"Supernova\">Supernova</option>\n",
        "                <option value=\"Pulsar\">Pulsar</option>\n",
        "            </select>\n",
        "\n",
        "            <label for=\"mass\">Estimated Mass (in Solar Masses):</label>\n",
        "            <input type=\"number\" id=\"mass\" name=\"mass\" value=\"1e6\" step=\"any\" required>\n",
        "\n",
        "            <label for=\"distance\">Estimated Distance (in Light Years):</label>\n",
        "            <input type=\"number\" id=\"distance\" name=\"distance\" value=\"1000000\" step=\"any\" required>\n",
        "\n",
        "            <input type=\"button\" value=\"Prediction\" onclick=\"submitData()\">\n",
        "        </form>\n",
        "        <p id=\"result\"></p>\n",
        "        <div id=\"plot\"></div>\n",
        "        <div id=\"heatmap\"></div>\n",
        "\n",
        "        <script>\n",
        "            async function submitData() {\n",
        "                const phenomenon = document.getElementById(\"phenomenon\").value;\n",
        "                const mass = parseFloat(document.getElementById(\"mass\").value);\n",
        "                const distance = parseFloat(document.getElementById(\"distance\").value);\n",
        "\n",
        "                const response = await fetch('/classify', {\n",
        "                    method: 'POST',\n",
        "                    headers: {\n",
        "                        'Content-Type': 'application/json',\n",
        "                    },\n",
        "                    body: JSON.stringify({ phenomenon, mass, distance })\n",
        "                });\n",
        "\n",
        "                const data = await response.json();\n",
        "                const result = `\n",
        "                    Object Type: ${data.object_type}<br>\n",
        "                    Mass: ${data.mass} Solar Masses<br>\n",
        "                    Distance: ${data.distance} Light Years<br>\n",
        "                    Classification Score: ${data.classification_score}<br>\n",
        "                    Coordinates: (x: ${data.coordinates.x}, y: ${data.coordinates.y}, z: ${data.coordinates.z})<br>\n",
        "                    Kerr Metric: ${data.kerr_metric}<br>\n",
        "                    Friedmann Equation: ${data.friedmann_equation}<br>\n",
        "                    Schwarzschild Metric: ${data.schwarzschild_metric}<br>\n",
        "                    Gravitational Wave Equation: ${data.gravitational_wave_eqn}\n",
        "                `;\n",
        "                document.getElementById(\"result\").innerHTML = result;\n",
        "\n",
        "                const plotImage = data.plot_image;\n",
        "                document.getElementById(\"plot\").innerHTML = `<img src=\"data:image/png;base64,${plotImage}\" alt=\"3D Plot\">`;\n",
        "\n",
        "                const heatmapImage = data.heatmap_image;\n",
        "                document.getElementById(\"heatmap\").innerHTML = `<img src=\"data:image/png;base64,${heatmapImage}\" alt=\"Heatmap\">`;\n",
        "            }\n",
        "        </script>\n",
        "    </body>\n",
        "    </html>\n",
        "    '''\n",
        "\n",
        "@app.route('/classify', methods=['POST'])\n",
        "def classify():\n",
        "    data = request.get_json()\n",
        "    phenomenon = data['phenomenon']\n",
        "    mass = data['mass']\n",
        "    distance = data['distance']\n",
        "\n",
        "    # Get classification result\n",
        "    result = celestial_classification_model(phenomenon, mass, distance)\n",
        "\n",
        "    # Generate 3D plot and heatmap images\n",
        "    plot_image = create_3d_plot(result['coordinates'])\n",
        "    heatmap_image = create_heatmap(result)\n",
        "\n",
        "    result['plot_image'] = plot_image\n",
        "    result['heatmap_image'] = heatmap_image\n",
        "\n",
        "    return jsonify(result)\n",
        "# Start the app\n",
        "if __name__ == '__main__':\n",
        "    public_url = ngrok.connect(5000)\n",
        "    print(\" * Public URL:\", public_url)\n",
        "    app.run(port=5000)"
      ],
      "metadata": {
        "id": "Wp84CYbwnzMq",
        "collapsed": true
      },
      "execution_count": null,
      "outputs": []
    },
    {
      "cell_type": "code",
      "source": [
        "import gradio as gr\n",
        "import random\n",
        "import numpy as np\n",
        "import matplotlib.pyplot as plt\n",
        "from mpl_toolkits.mplot3d import Axes3D\n",
        "from PIL import Image\n",
        "import io\n",
        "\n",
        "# Function to generate and return a PIL image for 3D plot\n",
        "def create_3d_plot(coordinates):\n",
        "    fig = plt.figure()\n",
        "    ax = fig.add_subplot(111, projection='3d')\n",
        "\n",
        "    # Plotting the Sun's coordinates\n",
        "    ax.scatter(0, 0, 0, c='yellow', s=100, label='Sun (0, 0, 0)', marker='o')  # Sun marker\n",
        "\n",
        "    # Plotting celestial objects with respect to the Sun's coordinates\n",
        "    x, y, z = coordinates['x'], coordinates['y'], coordinates['z']\n",
        "    ax.scatter(x, y, z, c='r', marker='o', label='Celestial Object')\n",
        "\n",
        "    # Adding trajectory (for demonstration, we create a simple line)\n",
        "    ax.plot([0, x], [0, y], [0, z], color='blue', linestyle='--', linewidth=2, label='Trajectory')\n",
        "\n",
        "    ax.set_xlabel('X Coordinate (Light Years)')\n",
        "    ax.set_ylabel('Y Coordinate (Light Years)')\n",
        "    ax.set_zlabel('Z Coordinate (Light Years)')\n",
        "    ax.set_title('3D Scatter Plot of Celestial Phenomena (Relative to the Sun)')\n",
        "    ax.legend()\n",
        "\n",
        "    # Convert plot to PIL image\n",
        "    buf = io.BytesIO()\n",
        "    plt.savefig(buf, format='png')\n",
        "    buf.seek(0)\n",
        "    pil_img = Image.open(buf)\n",
        "    plt.close(fig)\n",
        "    return pil_img\n",
        "\n",
        "# Function to create a heatmap based on various astronomical features\n",
        "def create_heatmap():\n",
        "    fig, ax = plt.subplots()\n",
        "\n",
        "    # Extracting example features for heatmap (replace with actual data in practice)\n",
        "    ra = np.random.uniform(0, 360, size=100)\n",
        "    dec = np.random.uniform(-90, 90, size=100)\n",
        "\n",
        "    # Create a 2D histogram as a heatmap\n",
        "    heatmap, xedges, yedges = np.histogram2d(ra, dec, bins=20)\n",
        "    im = ax.imshow(heatmap.T, origin='lower', cmap='hot', interpolation='nearest')\n",
        "\n",
        "    ax.set_xlabel('Right Ascension (Degrees)')\n",
        "    ax.set_ylabel('Declination (Degrees)')\n",
        "    ax.set_title('Heatmap of Celestial Phenomena')\n",
        "    plt.colorbar(im, ax=ax)\n",
        "\n",
        "    # Convert heatmap to PIL image\n",
        "    buf = io.BytesIO()\n",
        "    plt.savefig(buf, format='png')\n",
        "    buf.seek(0)\n",
        "    pil_img = Image.open(buf)\n",
        "    plt.close(fig)\n",
        "    return pil_img\n",
        "\n",
        "# Function to simulate a machine learning model for celestial object classification\n",
        "def celestial_classification_model(phenomenon, mass, distance):\n",
        "    accuracy = random.uniform(0.8, 1.0)  # Simulating accuracy between 0.8 and 1.0\n",
        "\n",
        "    # Simulate coordinates based on distance, with Sun's coordinates as reference\n",
        "    sun_coordinates = (0, 0, 0)  # Sun's position at the origin\n",
        "    x = random.uniform(-1, 1) * distance\n",
        "    y = random.uniform(-1, 1) * distance\n",
        "    z = random.uniform(-1, 1) * distance\n",
        "\n",
        "    # Simulate values for the Kerr Metric, Friedmann Equation, Schwarzschild Metric, and Gravitational Wave Equation\n",
        "    kerr_metric = random.uniform(1, 10) * mass  # Simulating a value for spacetime distortion\n",
        "    friedmann_equation = random.uniform(0.1, 2.0) * distance  # Simulating universe expansion factor\n",
        "    schwarzschild_metric = random.uniform(0.5, 3.0) * mass  # Simulating non-rotating mass metric\n",
        "    gravitational_wave_eqn = random.uniform(0, 5) * distance  # Simulating gravitational wave effect\n",
        "\n",
        "    response = {\n",
        "        \"object_type\": phenomenon,\n",
        "        \"mass\": mass,\n",
        "        \"distance\": distance,\n",
        "        \"classification_score\": round(accuracy, 2),\n",
        "        \"coordinates\": {\"x\": round(x, 2), \"y\": round(y, 2), \"z\": round(z, 2)},\n",
        "        \"kerr_metric\": round(kerr_metric, 2),\n",
        "        \"friedmann_equation\": round(friedmann_equation, 2),\n",
        "        \"schwarzschild_metric\": round(schwarzschild_metric, 2),\n",
        "        \"gravitational_wave_eqn\": round(gravitational_wave_eqn, 2)\n",
        "    }\n",
        "    return response\n",
        "\n",
        "# Gradio interface function\n",
        "def celestial_classification(phenomenon, mass, distance):\n",
        "    try:\n",
        "        classification_result = celestial_classification_model(phenomenon, mass, distance)\n",
        "        plot_img = create_3d_plot(classification_result[\"coordinates\"])\n",
        "        heatmap_img = create_heatmap()\n",
        "\n",
        "        result = {\n",
        "            \"Object Type\": classification_result[\"object_type\"],\n",
        "            \"Mass\": f\"{classification_result['mass']} Solar Masses\",\n",
        "            \"Distance\": f\"{classification_result['distance']} Light Years\",\n",
        "            \"Classification Score\": classification_result[\"classification_score\"],\n",
        "            \"Coordinates\": f\"({classification_result['coordinates']['x']}, {classification_result['coordinates']['y']}, {classification_result['coordinates']['z']})\",\n",
        "            \"Kerr Metric\": classification_result[\"kerr_metric\"],\n",
        "            \"Friedmann Equation\": classification_result[\"friedmann_equation\"],\n",
        "            \"Schwarzschild Metric\": classification_result[\"schwarzschild_metric\"],\n",
        "            \"Gravitational Wave Equation\": classification_result[\"gravitational_wave_eqn\"],\n",
        "            \"3D Plot\": plot_img,\n",
        "            \"Heatmap\": heatmap_img\n",
        "        }\n",
        "        return result, plot_img, heatmap_img  # Return outputs as expected\n",
        "    except Exception as e:\n",
        "        return {\"error\": str(e)}, None, None  # Return error if something goes wrong\n",
        "\n",
        "# Gradio UI\n",
        "gr.Interface(\n",
        "    fn=celestial_classification,\n",
        "    inputs=[\n",
        "        gr.Dropdown(choices=[\"Black Hole\", \"Galaxy\", \"Star\", \"Supernova\", \"Pulsar\"], label=\"Celestial Phenomenon\"),\n",
        "        gr.Number(value=1e6, label=\"Estimated Mass (in Solar Masses)\"),\n",
        "        gr.Number(value=1000000, label=\"Estimated Distance (in Light Years)\")\n",
        "    ],\n",
        "    outputs=[\n",
        "        gr.JSON(label=\"Prediction Result\"),\n",
        "        gr.Image(label=\"3D Plot\", type=\"pil\"),\n",
        "        gr.Image(label=\"Heatmap\", type=\"pil\")\n",
        "    ],\n",
        "    live=False,  # Disable live updates\n",
        "    allow_flagging=\"never\"  # Disable flagging if needed\n",
        ").launch()"
      ],
      "metadata": {
        "id": "RGfPXCKcoV9d",
        "collapsed": true
      },
      "execution_count": null,
      "outputs": []
    },
    {
      "cell_type": "code",
      "source": [],
      "metadata": {
        "id": "zqniJhbVJWI0"
      },
      "execution_count": null,
      "outputs": []
    }
  ],
  "metadata": {
    "colab": {
      "provenance": []
    },
    "kernelspec": {
      "display_name": "Python 3",
      "name": "python3"
    },
    "language_info": {
      "name": "python"
    }
  },
  "nbformat": 4,
  "nbformat_minor": 0
}